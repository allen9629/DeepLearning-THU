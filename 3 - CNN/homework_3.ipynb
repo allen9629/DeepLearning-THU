{
  "nbformat": 4,
  "nbformat_minor": 0,
  "metadata": {
    "kernelspec": {
      "name": "python3",
      "display_name": "Python 3"
    },
    "language_info": {
      "codemirror_mode": {
        "name": "ipython",
        "version": 3
      },
      "file_extension": ".py",
      "mimetype": "text/x-python",
      "name": "python",
      "nbconvert_exporter": "python",
      "pygments_lexer": "ipython3",
      "version": "3.6.10"
    },
    "colab": {
      "name": "homework-3.ipynb",
      "provenance": [],
      "collapsed_sections": [],
      "toc_visible": true
    },
    "accelerator": "GPU"
  },
  "cells": [
    {
      "cell_type": "markdown",
      "metadata": {
        "id": "WSM24XUL6tO0",
        "colab_type": "text"
      },
      "source": [
        "## Homework-3: MNIST Classification with ConvNet\n",
        "\n",
        "### **Deadline: 2020.04.07 11:59:00 AM**\n",
        "\n",
        "### In this homework, you need to\n",
        "- #### implement forward and backward for ConvLayer (`layers/conv_layer.py`)\n",
        "- #### implement forward and backward for PoolingLayer (`layers/pooling_layer.py`)\n",
        "- #### implement forward and backward for DropoutLayer (`layers/dropout_layer.py`)"
      ]
    },
    {
      "cell_type": "code",
      "metadata": {
        "id": "gu5FYMJhtlfM",
        "colab_type": "code",
        "outputId": "f41bb609-702f-4c9c-fd95-b57ba32b1244",
        "colab": {
          "base_uri": "https://localhost:8080/",
          "height": 34
        }
      },
      "source": [
        "%tensorflow_version 1.x"
      ],
      "execution_count": 0,
      "outputs": [
        {
          "output_type": "stream",
          "text": [
            "TensorFlow 1.x selected.\n"
          ],
          "name": "stdout"
        }
      ]
    },
    {
      "cell_type": "code",
      "metadata": {
        "id": "frtIKTpx6tPC",
        "colab_type": "code",
        "colab": {}
      },
      "source": [
        "import numpy as np\n",
        "import matplotlib.pyplot as plt\n",
        "%matplotlib inline\n",
        "import tensorflow.compat.v1 as tf\n",
        "tf.disable_eager_execution()\n",
        "\n",
        "from network import Network\n",
        "from solver import train, test\n",
        "from plot import plot_loss_and_acc"
      ],
      "execution_count": 0,
      "outputs": []
    },
    {
      "cell_type": "markdown",
      "metadata": {
        "id": "hv7AA9ol6tPh",
        "colab_type": "text"
      },
      "source": [
        "## Load MNIST Dataset\n",
        "We use tensorflow tools to load dataset for convenience."
      ]
    },
    {
      "cell_type": "code",
      "metadata": {
        "id": "pxrNqj0K6tPm",
        "colab_type": "code",
        "colab": {
          "base_uri": "https://localhost:8080/",
          "height": 50
        },
        "outputId": "28586252-aa98-40d9-8518-7533a9150b1c"
      },
      "source": [
        "(x_train, y_train), (x_test, y_test) = tf.keras.datasets.mnist.load_data()"
      ],
      "execution_count": 3,
      "outputs": [
        {
          "output_type": "stream",
          "text": [
            "Downloading data from https://storage.googleapis.com/tensorflow/tf-keras-datasets/mnist.npz\n",
            "11493376/11490434 [==============================] - 0s 0us/step\n"
          ],
          "name": "stdout"
        }
      ]
    },
    {
      "cell_type": "code",
      "metadata": {
        "id": "fQ_sFIFZ6tQA",
        "colab_type": "code",
        "colab": {}
      },
      "source": [
        "def decode_image(image):\n",
        "    # Normalize from [0, 255.] to [0., 1.0], and then subtract by the mean value\n",
        "    image = tf.cast(image, tf.float32)\n",
        "    image = tf.reshape(image, [1, 28, 28])\n",
        "    image = image / 255.0\n",
        "    image = image - tf.reduce_mean(image)\n",
        "    return image\n",
        "\n",
        "def decode_label(label):\n",
        "    # Encode label with one-hot encoding\n",
        "    return tf.one_hot(label, depth=10)"
      ],
      "execution_count": 0,
      "outputs": []
    },
    {
      "cell_type": "code",
      "metadata": {
        "id": "gxbEtj1p6tQO",
        "colab_type": "code",
        "colab": {}
      },
      "source": [
        "# Data Preprocessing\n",
        "x_train = tf.data.Dataset.from_tensor_slices(x_train).map(decode_image)\n",
        "y_train = tf.data.Dataset.from_tensor_slices(y_train).map(decode_label)\n",
        "data_train = tf.data.Dataset.zip((x_train, y_train))\n",
        "x_test = tf.data.Dataset.from_tensor_slices(x_test).map(decode_image)\n",
        "y_test = tf.data.Dataset.from_tensor_slices(y_test).map(decode_label)\n",
        "data_test = tf.data.Dataset.zip((x_test, y_test))"
      ],
      "execution_count": 0,
      "outputs": []
    },
    {
      "cell_type": "markdown",
      "metadata": {
        "id": "LdJJHFfM6tQx",
        "colab_type": "text"
      },
      "source": [
        "## Set Hyperparameters\n",
        "You can modify hyperparameters by yourself."
      ]
    },
    {
      "cell_type": "code",
      "metadata": {
        "id": "fH9bwJi06tRG",
        "colab_type": "code",
        "colab": {}
      },
      "source": [
        "batch_size = 100\n",
        "max_epoch = 5\n",
        "init_std = 0.01\n",
        "\n",
        "learning_rate = 0.01\n",
        "weight_decay = 0.005\n",
        "\n",
        "disp_freq = 50"
      ],
      "execution_count": 0,
      "outputs": []
    },
    {
      "cell_type": "markdown",
      "metadata": {
        "id": "Z9i2Bw286tR-",
        "colab_type": "text"
      },
      "source": [
        "## Criterion and Optimizer"
      ]
    },
    {
      "cell_type": "code",
      "metadata": {
        "id": "4PAkxx4_6tSM",
        "colab_type": "code",
        "colab": {}
      },
      "source": [
        "from softmax_cross_entropy import SoftmaxCrossEntropyLossLayer\n",
        "from optimizer import SGD\n",
        "\n",
        "criterion = SoftmaxCrossEntropyLossLayer()\n",
        "sgd = SGD(learning_rate, weight_decay)"
      ],
      "execution_count": 0,
      "outputs": []
    },
    {
      "cell_type": "markdown",
      "metadata": {
        "id": "q_Yl8-kX6tSt",
        "colab_type": "text"
      },
      "source": [
        "## ConvNet"
      ]
    },
    {
      "cell_type": "code",
      "metadata": {
        "id": "0BMtSobf6tSx",
        "colab_type": "code",
        "colab": {}
      },
      "source": [
        "from fc_layer import FCLayer\n",
        "from relu_layer import ReLULayer\n",
        "from conv_layer import ConvLayer\n",
        "from pooling_layer import MaxPoolingLayer\n",
        "from reshape_layer import ReshapeLayer\n",
        "\n",
        "convNet = Network()\n",
        "convNet.add(ConvLayer(1, 8, 3, 1))\n",
        "convNet.add(ReLULayer())\n",
        "convNet.add(MaxPoolingLayer(2, 0))\n",
        "convNet.add(ConvLayer(8, 16, 3, 1))\n",
        "convNet.add(ReLULayer())\n",
        "convNet.add(MaxPoolingLayer(2, 0))\n",
        "convNet.add(ReshapeLayer((batch_size, 16, 7, 7), (batch_size, 784)))\n",
        "convNet.add(FCLayer(784, 128))\n",
        "convNet.add(ReLULayer())\n",
        "convNet.add(FCLayer(128, 10))"
      ],
      "execution_count": 0,
      "outputs": []
    },
    {
      "cell_type": "code",
      "metadata": {
        "colab_type": "code",
        "outputId": "c0d2eddb-4b31-4a4e-a19f-58843d3bb499",
        "id": "nAC2P2hFtcx7",
        "colab": {
          "base_uri": "https://localhost:8080/",
          "height": 1000
        }
      },
      "source": [
        "# Train\n",
        "convNet.is_training = True\n",
        "convNet, conv_loss, conv_acc = train(convNet, criterion, sgd, data_train, max_epoch, batch_size, disp_freq)"
      ],
      "execution_count": 0,
      "outputs": [
        {
          "output_type": "stream",
          "text": [
            "WARNING:tensorflow:From /content/solver.py:15: DatasetV1.make_one_shot_iterator (from tensorflow.python.data.ops.dataset_ops) is deprecated and will be removed in a future version.\n",
            "Instructions for updating:\n",
            "Use `for ... in dataset:` to iterate over a dataset. If using `tf.estimator`, return the `Dataset` object directly from your input function. As a last resort, you can use `tf.compat.v1.data.make_one_shot_iterator(dataset)`.\n",
            "Epoch [0][5]\t Batch [0][550]\t Training Loss 5.1536\t Accuracy 0.1200\n",
            "Epoch [0][5]\t Batch [50][550]\t Training Loss 1.4862\t Accuracy 0.5343\n",
            "Epoch [0][5]\t Batch [100][550]\t Training Loss 1.1096\t Accuracy 0.6584\n",
            "Epoch [0][5]\t Batch [150][550]\t Training Loss 0.9393\t Accuracy 0.7113\n",
            "Epoch [0][5]\t Batch [200][550]\t Training Loss 0.8279\t Accuracy 0.7462\n",
            "Epoch [0][5]\t Batch [250][550]\t Training Loss 0.7502\t Accuracy 0.7705\n",
            "Epoch [0][5]\t Batch [300][550]\t Training Loss 0.6932\t Accuracy 0.7896\n",
            "Epoch [0][5]\t Batch [350][550]\t Training Loss 0.6507\t Accuracy 0.8030\n",
            "Epoch [0][5]\t Batch [400][550]\t Training Loss 0.6153\t Accuracy 0.8144\n",
            "Epoch [0][5]\t Batch [450][550]\t Training Loss 0.5856\t Accuracy 0.8239\n",
            "Epoch [0][5]\t Batch [500][550]\t Training Loss 0.5621\t Accuracy 0.8310\n",
            "\n",
            "Epoch [0]\t Average training loss 0.5408\t Average training accuracy 0.8376\n",
            "Epoch [0]\t Average validation loss 0.2546\t Average validation accuracy 0.9264\n",
            "\n",
            "Epoch [1][5]\t Batch [0][550]\t Training Loss 0.3315\t Accuracy 0.9300\n",
            "Epoch [1][5]\t Batch [50][550]\t Training Loss 0.2916\t Accuracy 0.9178\n",
            "Epoch [1][5]\t Batch [100][550]\t Training Loss 0.2960\t Accuracy 0.9177\n",
            "Epoch [1][5]\t Batch [150][550]\t Training Loss 0.3019\t Accuracy 0.9145\n",
            "Epoch [1][5]\t Batch [200][550]\t Training Loss 0.2963\t Accuracy 0.9157\n",
            "Epoch [1][5]\t Batch [250][550]\t Training Loss 0.2907\t Accuracy 0.9168\n",
            "Epoch [1][5]\t Batch [300][550]\t Training Loss 0.2871\t Accuracy 0.9180\n",
            "Epoch [1][5]\t Batch [350][550]\t Training Loss 0.2848\t Accuracy 0.9187\n",
            "Epoch [1][5]\t Batch [400][550]\t Training Loss 0.2822\t Accuracy 0.9191\n",
            "Epoch [1][5]\t Batch [450][550]\t Training Loss 0.2795\t Accuracy 0.9201\n",
            "Epoch [1][5]\t Batch [500][550]\t Training Loss 0.2786\t Accuracy 0.9201\n",
            "\n",
            "Epoch [1]\t Average training loss 0.2763\t Average training accuracy 0.9210\n",
            "Epoch [1]\t Average validation loss 0.1970\t Average validation accuracy 0.9454\n",
            "\n",
            "Epoch [2][5]\t Batch [0][550]\t Training Loss 0.2532\t Accuracy 0.9400\n",
            "Epoch [2][5]\t Batch [50][550]\t Training Loss 0.2297\t Accuracy 0.9349\n",
            "Epoch [2][5]\t Batch [100][550]\t Training Loss 0.2358\t Accuracy 0.9327\n",
            "Epoch [2][5]\t Batch [150][550]\t Training Loss 0.2425\t Accuracy 0.9313\n",
            "Epoch [2][5]\t Batch [200][550]\t Training Loss 0.2393\t Accuracy 0.9320\n",
            "Epoch [2][5]\t Batch [250][550]\t Training Loss 0.2356\t Accuracy 0.9328\n",
            "Epoch [2][5]\t Batch [300][550]\t Training Loss 0.2340\t Accuracy 0.9336\n",
            "Epoch [2][5]\t Batch [350][550]\t Training Loss 0.2335\t Accuracy 0.9336\n",
            "Epoch [2][5]\t Batch [400][550]\t Training Loss 0.2327\t Accuracy 0.9335\n",
            "Epoch [2][5]\t Batch [450][550]\t Training Loss 0.2317\t Accuracy 0.9340\n",
            "Epoch [2][5]\t Batch [500][550]\t Training Loss 0.2323\t Accuracy 0.9336\n",
            "\n",
            "Epoch [2]\t Average training loss 0.2314\t Average training accuracy 0.9341\n",
            "Epoch [2]\t Average validation loss 0.1743\t Average validation accuracy 0.9550\n",
            "\n",
            "Epoch [3][5]\t Batch [0][550]\t Training Loss 0.2226\t Accuracy 0.9400\n",
            "Epoch [3][5]\t Batch [50][550]\t Training Loss 0.2029\t Accuracy 0.9443\n",
            "Epoch [3][5]\t Batch [100][550]\t Training Loss 0.2095\t Accuracy 0.9414\n",
            "Epoch [3][5]\t Batch [150][550]\t Training Loss 0.2158\t Accuracy 0.9398\n",
            "Epoch [3][5]\t Batch [200][550]\t Training Loss 0.2136\t Accuracy 0.9406\n",
            "Epoch [3][5]\t Batch [250][550]\t Training Loss 0.2104\t Accuracy 0.9413\n",
            "Epoch [3][5]\t Batch [300][550]\t Training Loss 0.2095\t Accuracy 0.9420\n",
            "Epoch [3][5]\t Batch [350][550]\t Training Loss 0.2097\t Accuracy 0.9420\n",
            "Epoch [3][5]\t Batch [400][550]\t Training Loss 0.2095\t Accuracy 0.9417\n",
            "Epoch [3][5]\t Batch [450][550]\t Training Loss 0.2091\t Accuracy 0.9419\n",
            "Epoch [3][5]\t Batch [500][550]\t Training Loss 0.2103\t Accuracy 0.9411\n",
            "\n",
            "Epoch [3]\t Average training loss 0.2099\t Average training accuracy 0.9415\n",
            "Epoch [3]\t Average validation loss 0.1624\t Average validation accuracy 0.9584\n",
            "\n",
            "Epoch [4][5]\t Batch [0][550]\t Training Loss 0.2088\t Accuracy 0.9500\n",
            "Epoch [4][5]\t Batch [50][550]\t Training Loss 0.1884\t Accuracy 0.9500\n",
            "Epoch [4][5]\t Batch [100][550]\t Training Loss 0.1954\t Accuracy 0.9461\n",
            "Epoch [4][5]\t Batch [150][550]\t Training Loss 0.2014\t Accuracy 0.9449\n",
            "Epoch [4][5]\t Batch [200][550]\t Training Loss 0.1996\t Accuracy 0.9454\n",
            "Epoch [4][5]\t Batch [250][550]\t Training Loss 0.1967\t Accuracy 0.9465\n",
            "Epoch [4][5]\t Batch [300][550]\t Training Loss 0.1961\t Accuracy 0.9468\n",
            "Epoch [4][5]\t Batch [350][550]\t Training Loss 0.1966\t Accuracy 0.9467\n",
            "Epoch [4][5]\t Batch [400][550]\t Training Loss 0.1967\t Accuracy 0.9464\n",
            "Epoch [4][5]\t Batch [450][550]\t Training Loss 0.1966\t Accuracy 0.9466\n",
            "Epoch [4][5]\t Batch [500][550]\t Training Loss 0.1981\t Accuracy 0.9458\n",
            "\n",
            "Epoch [4]\t Average training loss 0.1979\t Average training accuracy 0.9461\n",
            "Epoch [4]\t Average validation loss 0.1557\t Average validation accuracy 0.9598\n",
            "\n"
          ],
          "name": "stdout"
        }
      ]
    },
    {
      "cell_type": "code",
      "metadata": {
        "id": "CqyTT6KA6tTy",
        "colab_type": "code",
        "outputId": "a83abe58-e658-4a08-952a-cecd9a8e0299",
        "colab": {
          "base_uri": "https://localhost:8080/",
          "height": 67
        }
      },
      "source": [
        "# Test\n",
        "convNet.is_training = False\n",
        "test(convNet, criterion, data_test, batch_size, disp_freq)"
      ],
      "execution_count": 0,
      "outputs": [
        {
          "output_type": "stream",
          "text": [
            "Testing...\n",
            "The test accuracy is 0.9512.\n",
            "\n"
          ],
          "name": "stdout"
        }
      ]
    },
    {
      "cell_type": "markdown",
      "metadata": {
        "id": "hQO0kv-66tUC",
        "colab_type": "text"
      },
      "source": [
        "## Plot"
      ]
    },
    {
      "cell_type": "code",
      "metadata": {
        "id": "22foWFBD6tUI",
        "colab_type": "code",
        "outputId": "76e72588-438c-4877-ac97-3bf73b02afc0",
        "colab": {
          "base_uri": "https://localhost:8080/",
          "height": 546
        }
      },
      "source": [
        "plot_loss_and_acc({'ConvNet': [conv_loss, conv_acc]})"
      ],
      "execution_count": 0,
      "outputs": [
        {
          "output_type": "display_data",
          "data": {
            "image/png": "[encoded data removed]",
            "text/plain": [
              "<Figure size 432x288 with 1 Axes>"
            ]
          },
          "metadata": {
            "tags": []
          }
        },
        {
          "output_type": "display_data",
          "data": {
            "image/png": "[encoded data removed]",
            "text/plain": [
              "<Figure size 432x288 with 1 Axes>"
            ]
          },
          "metadata": {
            "tags": []
          }
        }
      ]
    },
    {
      "cell_type": "markdown",
      "metadata": {
        "id": "R53TG3E06tUY",
        "colab_type": "text"
      },
      "source": [
        "### ~~You have finished homework3, congratulations!~~  \n",
        "\n",
        "**Next, according to the requirements (4):**\n",
        "### **You need to implement the Dropout layer and train the network again.**"
      ]
    },
    {
      "cell_type": "code",
      "metadata": {
        "id": "XLb5ga9x6tUb",
        "colab_type": "code",
        "colab": {}
      },
      "source": [
        "from dropout_layer import DropoutLayer\n",
        "\n",
        "convNet = Network()\n",
        "convNet.add(ConvLayer(1, 8, 3, 1))\n",
        "convNet.add(ReLULayer())\n",
        "convNet.add(MaxPoolingLayer(2, 0))\n",
        "convNet.add(ConvLayer(8, 16, 3, 1))\n",
        "convNet.add(ReLULayer())\n",
        "convNet.add(MaxPoolingLayer(2, 0))\n",
        "convNet.add(ReshapeLayer((batch_size, 16, 7, 7), (batch_size, 784)))\n",
        "convNet.add(DropoutLayer())\n",
        "convNet.add(FCLayer(784, 128))\n",
        "convNet.add(ReLULayer())\n",
        "convNet.add(FCLayer(128, 10))"
      ],
      "execution_count": 0,
      "outputs": []
    },
    {
      "cell_type": "code",
      "metadata": {
        "id": "aS19JOmG6tUm",
        "colab_type": "code",
        "outputId": "c148c211-fd54-4513-fd89-e316925ea4fa",
        "colab": {
          "base_uri": "https://localhost:8080/",
          "height": 1000
        }
      },
      "source": [
        "convNet.is_training = True\n",
        "convNet, conv_loss, conv_acc = train(convNet, criterion, sgd, data_train, max_epoch, batch_size, disp_freq)"
      ],
      "execution_count": 15,
      "outputs": [
        {
          "output_type": "stream",
          "text": [
            "Epoch [0][5]\t Batch [0][550]\t Training Loss 6.5605\t Accuracy 0.1400\n",
            "Epoch [0][5]\t Batch [50][550]\t Training Loss 2.5797\t Accuracy 0.4620\n",
            "Epoch [0][5]\t Batch [100][550]\t Training Loss 1.7470\t Accuracy 0.5863\n",
            "Epoch [0][5]\t Batch [150][550]\t Training Loss 1.4064\t Accuracy 0.6474\n",
            "Epoch [0][5]\t Batch [200][550]\t Training Loss 1.1963\t Accuracy 0.6911\n",
            "Epoch [0][5]\t Batch [250][550]\t Training Loss 1.0598\t Accuracy 0.7199\n",
            "Epoch [0][5]\t Batch [300][550]\t Training Loss 0.9638\t Accuracy 0.7410\n",
            "Epoch [0][5]\t Batch [350][550]\t Training Loss 0.8918\t Accuracy 0.7577\n",
            "Epoch [0][5]\t Batch [400][550]\t Training Loss 0.8308\t Accuracy 0.7720\n",
            "Epoch [0][5]\t Batch [450][550]\t Training Loss 0.7817\t Accuracy 0.7844\n",
            "Epoch [0][5]\t Batch [500][550]\t Training Loss 0.7417\t Accuracy 0.7940\n",
            "\n",
            "Epoch [0]\t Average training loss 0.7077\t Average training accuracy 0.8024\n",
            "Epoch [0]\t Average validation loss 0.3271\t Average validation accuracy 0.9054\n",
            "\n",
            "Epoch [1][5]\t Batch [0][550]\t Training Loss 0.4488\t Accuracy 0.8900\n",
            "Epoch [1][5]\t Batch [50][550]\t Training Loss 0.3131\t Accuracy 0.9116\n",
            "Epoch [1][5]\t Batch [100][550]\t Training Loss 0.3239\t Accuracy 0.9073\n",
            "Epoch [1][5]\t Batch [150][550]\t Training Loss 0.3277\t Accuracy 0.9046\n",
            "Epoch [1][5]\t Batch [200][550]\t Training Loss 0.3202\t Accuracy 0.9062\n",
            "Epoch [1][5]\t Batch [250][550]\t Training Loss 0.3163\t Accuracy 0.9067\n",
            "Epoch [1][5]\t Batch [300][550]\t Training Loss 0.3142\t Accuracy 0.9065\n",
            "Epoch [1][5]\t Batch [350][550]\t Training Loss 0.3120\t Accuracy 0.9071\n",
            "Epoch [1][5]\t Batch [400][550]\t Training Loss 0.3090\t Accuracy 0.9081\n",
            "Epoch [1][5]\t Batch [450][550]\t Training Loss 0.3064\t Accuracy 0.9090\n",
            "Epoch [1][5]\t Batch [500][550]\t Training Loss 0.3053\t Accuracy 0.9089\n",
            "\n",
            "Epoch [1]\t Average training loss 0.3028\t Average training accuracy 0.9099\n",
            "Epoch [1]\t Average validation loss 0.2476\t Average validation accuracy 0.9254\n",
            "\n",
            "Epoch [2][5]\t Batch [0][550]\t Training Loss 0.3266\t Accuracy 0.9200\n",
            "Epoch [2][5]\t Batch [50][550]\t Training Loss 0.2464\t Accuracy 0.9312\n",
            "Epoch [2][5]\t Batch [100][550]\t Training Loss 0.2585\t Accuracy 0.9267\n",
            "Epoch [2][5]\t Batch [150][550]\t Training Loss 0.2630\t Accuracy 0.9253\n",
            "Epoch [2][5]\t Batch [200][550]\t Training Loss 0.2585\t Accuracy 0.9259\n",
            "Epoch [2][5]\t Batch [250][550]\t Training Loss 0.2565\t Accuracy 0.9260\n",
            "Epoch [2][5]\t Batch [300][550]\t Training Loss 0.2556\t Accuracy 0.9254\n",
            "Epoch [2][5]\t Batch [350][550]\t Training Loss 0.2549\t Accuracy 0.9251\n",
            "Epoch [2][5]\t Batch [400][550]\t Training Loss 0.2541\t Accuracy 0.9253\n",
            "Epoch [2][5]\t Batch [450][550]\t Training Loss 0.2535\t Accuracy 0.9258\n",
            "Epoch [2][5]\t Batch [500][550]\t Training Loss 0.2542\t Accuracy 0.9251\n",
            "\n",
            "Epoch [2]\t Average training loss 0.2532\t Average training accuracy 0.9255\n",
            "Epoch [2]\t Average validation loss 0.2133\t Average validation accuracy 0.9370\n",
            "\n",
            "Epoch [3][5]\t Batch [0][550]\t Training Loss 0.2718\t Accuracy 0.9600\n",
            "Epoch [3][5]\t Batch [50][550]\t Training Loss 0.2175\t Accuracy 0.9404\n",
            "Epoch [3][5]\t Batch [100][550]\t Training Loss 0.2301\t Accuracy 0.9348\n",
            "Epoch [3][5]\t Batch [150][550]\t Training Loss 0.2341\t Accuracy 0.9339\n",
            "Epoch [3][5]\t Batch [200][550]\t Training Loss 0.2306\t Accuracy 0.9347\n",
            "Epoch [3][5]\t Batch [250][550]\t Training Loss 0.2292\t Accuracy 0.9345\n",
            "Epoch [3][5]\t Batch [300][550]\t Training Loss 0.2285\t Accuracy 0.9346\n",
            "Epoch [3][5]\t Batch [350][550]\t Training Loss 0.2283\t Accuracy 0.9345\n",
            "Epoch [3][5]\t Batch [400][550]\t Training Loss 0.2282\t Accuracy 0.9345\n",
            "Epoch [3][5]\t Batch [450][550]\t Training Loss 0.2282\t Accuracy 0.9347\n",
            "Epoch [3][5]\t Batch [500][550]\t Training Loss 0.2294\t Accuracy 0.9338\n",
            "\n",
            "Epoch [3]\t Average training loss 0.2288\t Average training accuracy 0.9340\n",
            "Epoch [3]\t Average validation loss 0.1977\t Average validation accuracy 0.9424\n",
            "\n",
            "Epoch [4][5]\t Batch [0][550]\t Training Loss 0.2463\t Accuracy 0.9700\n",
            "Epoch [4][5]\t Batch [50][550]\t Training Loss 0.2011\t Accuracy 0.9461\n",
            "Epoch [4][5]\t Batch [100][550]\t Training Loss 0.2134\t Accuracy 0.9397\n",
            "Epoch [4][5]\t Batch [150][550]\t Training Loss 0.2170\t Accuracy 0.9392\n",
            "Epoch [4][5]\t Batch [200][550]\t Training Loss 0.2141\t Accuracy 0.9400\n",
            "Epoch [4][5]\t Batch [250][550]\t Training Loss 0.2130\t Accuracy 0.9398\n",
            "Epoch [4][5]\t Batch [300][550]\t Training Loss 0.2124\t Accuracy 0.9400\n",
            "Epoch [4][5]\t Batch [350][550]\t Training Loss 0.2124\t Accuracy 0.9400\n",
            "Epoch [4][5]\t Batch [400][550]\t Training Loss 0.2128\t Accuracy 0.9399\n",
            "Epoch [4][5]\t Batch [450][550]\t Training Loss 0.2130\t Accuracy 0.9398\n",
            "Epoch [4][5]\t Batch [500][550]\t Training Loss 0.2144\t Accuracy 0.9388\n",
            "\n",
            "Epoch [4]\t Average training loss 0.2139\t Average training accuracy 0.9390\n",
            "Epoch [4]\t Average validation loss 0.1867\t Average validation accuracy 0.9476\n",
            "\n"
          ],
          "name": "stdout"
        }
      ]
    },
    {
      "cell_type": "code",
      "metadata": {
        "id": "0pxm7ufwdZmx",
        "colab_type": "code",
        "outputId": "c5ec027c-4a46-4494-ddf8-a0c63b074eb4",
        "colab": {
          "base_uri": "https://localhost:8080/",
          "height": 67
        }
      },
      "source": [
        "convNet.is_training = False\n",
        "test(convNet, criterion, data_test, batch_size, disp_freq)"
      ],
      "execution_count": 16,
      "outputs": [
        {
          "output_type": "stream",
          "text": [
            "Testing...\n",
            "The test accuracy is 0.9373.\n",
            "\n"
          ],
          "name": "stdout"
        }
      ]
    },
    {
      "cell_type": "code",
      "metadata": {
        "id": "V1cPLM3IddPy",
        "colab_type": "code",
        "outputId": "2a977ed3-2ce9-49bf-ce4b-62d691f130a8",
        "colab": {
          "base_uri": "https://localhost:8080/",
          "height": 545
        }
      },
      "source": [
        "plot_loss_and_acc({'ConvNet': [conv_loss, conv_acc]})"
      ],
      "execution_count": 17,
      "outputs": [
        {
          "output_type": "display_data",
          "data": {
            "image/png": "[encoded data removed]",
            "text/plain": [
              "<Figure size 432x288 with 1 Axes>"
            ]
          },
          "metadata": {
            "tags": []
          }
        },
        {
          "output_type": "display_data",
          "data": {
            "image/png": "[encoded data removed]",
            "text/plain": [
              "<Figure size 432x288 with 1 Axes>"
            ]
          },
          "metadata": {
            "tags": []
          }
        }
      ]
    }
  ]
}