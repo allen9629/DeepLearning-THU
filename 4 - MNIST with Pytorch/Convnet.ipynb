{
  "nbformat": 4,
  "nbformat_minor": 0,
  "metadata": {
    "colab": {
      "name": "Convnet.ipynb",
      "provenance": [],
      "collapsed_sections": []
    },
    "kernelspec": {
      "name": "python3",
      "display_name": "Python 3"
    },
    "accelerator": "GPU"
  },
  "cells": [
    {
      "cell_type": "markdown",
      "metadata": {
        "id": "9Ze9tneEmbog",
        "colab_type": "text"
      },
      "source": [
        "# ConvNet MNIST Pytorch\n",
        "### 林峻弘 2019280374"
      ]
    },
    {
      "cell_type": "code",
      "metadata": {
        "id": "eiTe8r-7mr10",
        "colab_type": "code",
        "colab": {}
      },
      "source": [
        "import os\n",
        "import torch\n",
        "from torch import nn\n",
        "from torch.nn import functional as fc\n",
        "import pandas as pd\n",
        "import numpy as np\n",
        "import torchvision\n",
        "from torchvision import datasets as ds\n",
        "from torchvision import transforms as tf\n",
        "import matplotlib.pyplot as plt\n",
        "from torch.utils.data.sampler import SubsetRandomSampler as SR\n",
        "%matplotlib inline\n",
        "torch.cuda.set_device(0)"
      ],
      "execution_count": 0,
      "outputs": []
    },
    {
      "cell_type": "code",
      "metadata": {
        "id": "wU0bJ4tLmvR5",
        "colab_type": "code",
        "colab": {}
      },
      "source": [
        "num_workers = 0\n",
        "batch_size = 20\n",
        "valid_size = 0.2\n",
        "transform = tf.ToTensor()\n",
        "train_data = ds.MNIST(root = 'data', train = True, download = True, transform = transform)\n",
        "test_data = ds.MNIST(root = 'data', train = False, download = True, transform = transform)\n",
        "\n",
        "train_loader = torch.utils.data.DataLoader(train_data, batch_size = batch_size, \n",
        "                                            num_workers = num_workers)\n",
        "valid_loader = torch.utils.data.DataLoader(train_data, batch_size = batch_size,\n",
        "                                           num_workers = num_workers)\n",
        "test_loader = torch.utils.data.DataLoader(test_data, batch_size = batch_size,\n",
        "                                         num_workers = num_workers)"
      ],
      "execution_count": 0,
      "outputs": []
    },
    {
      "cell_type": "code",
      "metadata": {
        "id": "4-esfVUJmyY6",
        "colab_type": "code",
        "colab": {}
      },
      "source": [
        "class CNN(nn.Module):\n",
        "    def __init__(self):\n",
        "      super(CNN,self).__init__()\n",
        "      self.conv1 = nn.Conv2d(1,16,kernel_size = 5, stride =1, padding =0)\n",
        "      self.conv2 = nn.Conv2d(16,32,kernel_size =5, stride =1, padding =0)\n",
        "      self.maxpool1 = nn.MaxPool2d(2)\n",
        "      self.maxpool2 = nn.MaxPool2d(2)\n",
        "      self.fc = nn.Linear (32*4*4,10)\n",
        "      self.relu1 = nn.ReLU()\n",
        "      self.relu2 = nn.ReLU()\n",
        "      self.dropout = nn.Dropout(0.3)\n",
        "      self.softmax = nn.Softmax(dim =1)\n",
        "\n",
        "    def forward(self,Input):\n",
        "      out = self.conv1(Input)\n",
        "      out = self.relu1(out)\n",
        "      out = self.maxpool1(out)\n",
        "      out = self.conv2(out)\n",
        "      out = self.relu2(out)\n",
        "      out = self.maxpool2(out)\n",
        "      out = out.view(out.size(0),-1)\n",
        "      out = self.fc(out)\n",
        "      out = self.dropout(out)\n",
        "      out = self.softmax(out)\n",
        "      return out"
      ],
      "execution_count": 0,
      "outputs": []
    },
    {
      "cell_type": "code",
      "metadata": {
        "id": "r9YfaleDpjP-",
        "colab_type": "code",
        "outputId": "a45c036c-52cc-4477-bf1a-803f7e0d0da2",
        "colab": {
          "base_uri": "https://localhost:8080/",
          "height": 222
        }
      },
      "source": [
        "model = CNN()\n",
        "print(model)\n",
        "criterion = nn.CrossEntropyLoss()\n",
        "alpha = 0.01\n",
        "optimizer = torch.optim.SGD(model.parameters(),lr = alpha)"
      ],
      "execution_count": 4,
      "outputs": [
        {
          "output_type": "stream",
          "text": [
            "CNN(\n",
            "  (conv1): Conv2d(1, 16, kernel_size=(5, 5), stride=(1, 1))\n",
            "  (conv2): Conv2d(16, 32, kernel_size=(5, 5), stride=(1, 1))\n",
            "  (maxpool1): MaxPool2d(kernel_size=2, stride=2, padding=0, dilation=1, ceil_mode=False)\n",
            "  (maxpool2): MaxPool2d(kernel_size=2, stride=2, padding=0, dilation=1, ceil_mode=False)\n",
            "  (fc): Linear(in_features=512, out_features=10, bias=True)\n",
            "  (relu1): ReLU()\n",
            "  (relu2): ReLU()\n",
            "  (dropout): Dropout(p=0.3, inplace=False)\n",
            "  (softmax): Softmax(dim=1)\n",
            ")\n"
          ],
          "name": "stdout"
        }
      ]
    },
    {
      "cell_type": "code",
      "metadata": {
        "id": "cAGTmRJCp8XZ",
        "colab_type": "code",
        "outputId": "7e4cb239-c390-4b88-9037-e0ca387beab4",
        "colab": {
          "base_uri": "https://localhost:8080/",
          "height": 373
        }
      },
      "source": [
        "epochs = 20\n",
        "train_loss = []\n",
        "validation_losses = []\n",
        "validation_acc = []\n",
        "for epoch in range(epochs):\n",
        "    training_loss = 0\n",
        "    accuracy =0\n",
        "    model.train()\n",
        "    for data,label in train_loader:\n",
        "        optimizer.zero_grad()\n",
        "        output = model(data)\n",
        "        loss = criterion(output,label)\n",
        "        loss.backward()\n",
        "        optimizer.step()\n",
        "        training_loss = training_loss + loss.item()\n",
        "    \n",
        "    model.eval()\n",
        "    for data,label in valid_loader:\n",
        "        output = model(data)\n",
        "        loss = criterion(output,label)\n",
        "        validation_loss = loss.item()\n",
        "        top_p,top_class = output.topk(1,dim=1)\n",
        "        same = top_class == label.view(*top_class.shape)\n",
        "        accuracy += torch.mean(same.type(torch.FloatTensor))\n",
        "    train_loss.append(training_loss/len(train_loader))\n",
        "    validation_losses.append(validation_loss/len(valid_loader))\n",
        "    validation_acc.append(accuracy/len(valid_loader))\n",
        "\n",
        "    print(\"Epoch: {}/{}.. \".format(epoch+1, epochs),\n",
        "              \"Training Loss: {:.3f}.. \".format(training_loss/len(train_loader)),\n",
        "              \"Validation Loss: {:.3f}.. \".format(validation_loss/len(valid_loader)),\n",
        "          \"Validation Accuracy: {:.3f}.. \".format(accuracy/len(valid_loader)))\n",
        "              "
      ],
      "execution_count": 5,
      "outputs": [
        {
          "output_type": "stream",
          "text": [
            "Epoch: 1/20..  Training Loss: 2.124..  Validation Loss: 0.001..  Validation Accuracy: 0.815.. \n",
            "Epoch: 2/20..  Training Loss: 1.771..  Validation Loss: 0.000..  Validation Accuracy: 0.903.. \n",
            "Epoch: 3/20..  Training Loss: 1.732..  Validation Loss: 0.000..  Validation Accuracy: 0.933.. \n",
            "Epoch: 4/20..  Training Loss: 1.713..  Validation Loss: 0.000..  Validation Accuracy: 0.943.. \n",
            "Epoch: 5/20..  Training Loss: 1.703..  Validation Loss: 0.000..  Validation Accuracy: 0.948.. \n",
            "Epoch: 6/20..  Training Loss: 1.696..  Validation Loss: 0.000..  Validation Accuracy: 0.958.. \n",
            "Epoch: 7/20..  Training Loss: 1.694..  Validation Loss: 0.000..  Validation Accuracy: 0.960.. \n",
            "Epoch: 8/20..  Training Loss: 1.689..  Validation Loss: 0.000..  Validation Accuracy: 0.965.. \n",
            "Epoch: 9/20..  Training Loss: 1.687..  Validation Loss: 0.000..  Validation Accuracy: 0.966.. \n",
            "Epoch: 10/20..  Training Loss: 1.685..  Validation Loss: 0.000..  Validation Accuracy: 0.970.. \n",
            "Epoch: 11/20..  Training Loss: 1.683..  Validation Loss: 0.000..  Validation Accuracy: 0.970.. \n",
            "Epoch: 12/20..  Training Loss: 1.681..  Validation Loss: 0.000..  Validation Accuracy: 0.973.. \n",
            "Epoch: 13/20..  Training Loss: 1.682..  Validation Loss: 0.000..  Validation Accuracy: 0.972.. \n",
            "Epoch: 14/20..  Training Loss: 1.679..  Validation Loss: 0.000..  Validation Accuracy: 0.975.. \n",
            "Epoch: 15/20..  Training Loss: 1.677..  Validation Loss: 0.000..  Validation Accuracy: 0.977.. \n",
            "Epoch: 16/20..  Training Loss: 1.675..  Validation Loss: 0.000..  Validation Accuracy: 0.977.. \n",
            "Epoch: 17/20..  Training Loss: 1.675..  Validation Loss: 0.000..  Validation Accuracy: 0.978.. \n",
            "Epoch: 18/20..  Training Loss: 1.676..  Validation Loss: 0.000..  Validation Accuracy: 0.978.. \n",
            "Epoch: 19/20..  Training Loss: 1.673..  Validation Loss: 0.000..  Validation Accuracy: 0.978.. \n",
            "Epoch: 20/20..  Training Loss: 1.674..  Validation Loss: 0.000..  Validation Accuracy: 0.980.. \n"
          ],
          "name": "stdout"
        }
      ]
    },
    {
      "cell_type": "markdown",
      "metadata": {
        "id": "HGPEv2E5Sxhu",
        "colab_type": "text"
      },
      "source": [
        ""
      ]
    },
    {
      "cell_type": "code",
      "metadata": {
        "id": "ecVPHQS3qE7x",
        "colab_type": "code",
        "outputId": "f7a8a585-f145-46e4-f835-91a7f721c8c6",
        "colab": {
          "base_uri": "https://localhost:8080/",
          "height": 50
        }
      },
      "source": [
        "testing_loss =[]\n",
        "correct = 0\n",
        "total = 0\n",
        "with torch.no_grad():\n",
        "    for data,label in test_loader:\n",
        "        test_loss=0\n",
        "        output = model(data)\n",
        "        loss = criterion(output,label)\n",
        "        test_loss = test_loss + loss.item()\n",
        "        _,pred = torch.max(output,1)\n",
        "        total += label.size(0)\n",
        "        correct += (pred == label).sum().item()\n",
        "    testing_loss.append(test_loss/len(test_loader))\n",
        "    print('Accuracy: %.2f %%'%(100*correct/total))\n",
        "    print(\"Testing Loss: {:.3f}.. \".format(test_loss/len(test_loader)))\n"
      ],
      "execution_count": 6,
      "outputs": [
        {
          "output_type": "stream",
          "text": [
            "Accuracy: 98.20 %\n",
            "Testing Loss: 0.003.. \n"
          ],
          "name": "stdout"
        }
      ]
    },
    {
      "cell_type": "code",
      "metadata": {
        "id": "YCSkw5bGqIQd",
        "colab_type": "code",
        "outputId": "478f3332-fba2-4aa7-f26c-990ccbeca956",
        "colab": {
          "base_uri": "https://localhost:8080/",
          "height": 282
        }
      },
      "source": [
        "plt.plot(train_loss, label='Training Loss')\n",
        "plt.plot(validation_losses,label='Validation Loss')\n",
        "plt.plot(validation_acc,label='Validation Accuracy')\n",
        "plt.legend(frameon=True)"
      ],
      "execution_count": 7,
      "outputs": [
        {
          "output_type": "execute_result",
          "data": {
            "text/plain": [
              "<matplotlib.legend.Legend at 0x7fc6dc3288d0>"
            ]
          },
          "metadata": {
            "tags": []
          },
          "execution_count": 7
        },
        {
          "output_type": "display_data",
          "data": {
            "image/png": "[encoded data removed]",
            "text/plain": [
              "<Figure size 432x288 with 1 Axes>"
            ]
          },
          "metadata": {
            "tags": []
          }
        }
      ]
    }
  ]
}