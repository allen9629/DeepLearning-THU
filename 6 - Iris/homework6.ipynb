{
 "cells": [
  {
   "cell_type": "code",
   "execution_count": 1,
   "metadata": {
    "colab": {},
    "colab_type": "code",
    "id": "H8wsihpaPQwT"
   },
   "outputs": [],
   "source": [
    "from __future__ import absolute_import\n",
    "from __future__ import division\n",
    "from __future__ import print_function\n",
    "import numpy as np\n",
    "import six\n",
    "from six.moves import range"
   ]
  },
  {
   "cell_type": "code",
   "execution_count": 2,
   "metadata": {
    "colab": {},
    "colab_type": "code",
    "id": "NGdG0vJgPagc"
   },
   "outputs": [],
   "source": [
    "from matplotlib import pyplot as plt\n",
    "%matplotlib inline"
   ]
  },
  {
   "cell_type": "code",
   "execution_count": 3,
   "metadata": {
    "colab": {
     "base_uri": "https://localhost:8080/",
     "height": 34
    },
    "colab_type": "code",
    "id": "vomHGA6BPcdw",
    "outputId": "275af3f8-10e1-428d-8204-a8127800a3e2"
   },
   "outputs": [
    {
     "data": {
      "text/plain": [
       "((150, 4), (150,), dtype('O'))"
      ]
     },
     "execution_count": 3,
     "metadata": {},
     "output_type": "execute_result"
    }
   ],
   "source": [
    "X = np.loadtxt('iris.data', dtype='object', delimiter=',')\n",
    "Y = X[:,-1]\n",
    "X = X[:, :-1].astype('f')\n",
    "X.shape, Y.shape, Y.dtype"
   ]
  },
  {
   "cell_type": "markdown",
   "metadata": {
    "colab_type": "text",
    "id": "OhkHS9WCD7yt"
   },
   "source": [
    "`X` is a `NxK` float matrix where each row (`X[i]`) corresponds to a data point."
   ]
  },
  {
   "cell_type": "code",
   "execution_count": 4,
   "metadata": {
    "colab": {},
    "colab_type": "code",
    "id": "QOG0G9I2Pegp"
   },
   "outputs": [],
   "source": [
    "def gmm(X, n_classes, n_iter):\n",
    "    \n",
    "    def init(X):\n",
    "        _, n = X.shape\n",
    "        return np.random.rand(n_classes, n), 2 * np.random.rand(n_classes, n, n) + 1, np.random.rand(n_classes)\n",
    "    \n",
    "    \n",
    "    mean, cov, alpha = init(X)\n",
    "\n",
    "    def prob(x, mean, cov):\n",
    "        n = len(x)\n",
    "        dim = np.shape(cov)[0]\n",
    "        \n",
    "        covdet = np.linalg.det(cov + np.eye(dim) * 0.001)\n",
    "        covinv = np.linalg.inv(cov + np.eye(dim) * 0.001)\n",
    "        xdiff = (x - mean).reshape((1,dim))\n",
    "        \n",
    "        prob = 1.0/(np.power(np.power(2*np.pi,dim)*np.abs(covdet),0.5))*\\\n",
    "               np.exp(-0.5*xdiff.dot(covinv).dot(xdiff.T))[0][0]\n",
    "        return prob\n",
    "        \n",
    "    \n",
    "    # EM algorithm\n",
    "    \n",
    "    mat = np.zeros((len(X), n_classes))\n",
    "    for times in range(n_iter):\n",
    "        for j, x in enumerate(X):\n",
    "            temp, tempP = 0, 0\n",
    "            for i in range(n_classes):\n",
    "                tempP = prob(x, mean[i], cov[i])\n",
    "                temp += tempP\n",
    "                mat[j][i] = alpha[i] * tempP\n",
    "            mat[j] /= temp\n",
    "        \n",
    "        for i in range(n_classes):\n",
    "            # updata mean\n",
    "            mean[i] = np.dot(mat[:, i].T, X) / sum(mat[:, i])\n",
    "            \n",
    "            # update cov\n",
    "            temp = np.zeros(cov[0].shape)\n",
    "            for j in range(len(X)):\n",
    "                data = (X[j] - mean[i]).reshape(4, 1)\n",
    "                temp += mat[j][i] * np.dot(data, data.T)\n",
    "            temp /= sum(mat[:, i])\n",
    "            cov[i] = temp\n",
    "            alpha[i] = sum(mat[:, i]) / len(X)\n",
    "            \n",
    "    \n",
    "    class_assignments = np.zeros(len(X))\n",
    "    for j, x in enumerate(X):\n",
    "        temp, tempP = 0, 0\n",
    "        for i in range(n_classes):\n",
    "            tempP = prob(x, mean[i], cov[i])\n",
    "            temp += tempP\n",
    "            mat[j][i] = alpha[i] * tempP\n",
    "        mat[j] /= temp\n",
    "        class_assignments[j] = np.argmax(mat[j])\n",
    "    return class_assignments,mean,cov"
   ]
  },
  {
   "cell_type": "code",
   "execution_count": null,
   "metadata": {
    "colab": {},
    "colab_type": "code",
    "id": "qhDAcuG7PjCy"
   },
   "outputs": [],
   "source": [
    "class_assignments, mean, cov = gmm(X, 3, 600)  # You may want to tune the number of iterations"
   ]
  },
  {
   "cell_type": "markdown",
   "metadata": {
    "colab_type": "text",
    "id": "E9g82p--D7y4"
   },
   "source": [
    "## Visualization: a Cross Section"
   ]
  },
  {
   "cell_type": "code",
   "execution_count": null,
   "metadata": {
    "colab": {
     "base_uri": "https://localhost:8080/",
     "height": 268
    },
    "colab_type": "code",
    "id": "GDhHgKZjPlEE",
    "outputId": "17a51234-6b35-42cc-f870-e6873c614ebd"
   },
   "outputs": [],
   "source": [
    "plt.figure(figsize=(9,4))\n",
    "plt.subplot(121)\n",
    "for k in range(3):\n",
    "    plt.scatter(X[class_assignments==k,2], X[class_assignments==k, 1], s=2)\n",
    "plt.subplot(122)\n",
    "for k, class_name in enumerate(np.unique(Y)):\n",
    "    plt.scatter(X[Y==class_name, 2], X[Y==class_name, 1], s=2)"
   ]
  },
  {
   "cell_type": "markdown",
   "metadata": {
    "colab_type": "text",
    "id": "A8QPJv-kD7y9"
   },
   "source": [
    "## Visualization: PCA Projection"
   ]
  },
  {
   "cell_type": "code",
   "execution_count": null,
   "metadata": {
    "colab": {},
    "colab_type": "code",
    "id": "vA-GgzXcPnSj"
   },
   "outputs": [],
   "source": [
    "evals, evecs = np.linalg.eigh(np.cov(X.T))\n",
    "to_crd = lambda x: ((x-x.mean(axis=0))@evecs)[:,-2:]\n",
    "crds = to_crd(X)"
   ]
  },
  {
   "cell_type": "code",
   "execution_count": null,
   "metadata": {
    "colab": {
     "base_uri": "https://localhost:8080/",
     "height": 265
    },
    "colab_type": "code",
    "id": "zoU6juJtD7zC",
    "outputId": "35b2e711-0323-4003-90af-d17467ef8df2"
   },
   "outputs": [],
   "source": [
    "plt.figure(figsize=(9,4))\n",
    "plt.subplot(121)\n",
    "for k in range(3):\n",
    "    plt.scatter(crds[class_assignments==k, 0], crds[class_assignments==k, 1], s=2)\n",
    "plt.scatter(to_crd(mean)[:,0], to_crd(mean)[:,1], s=30, marker='+')\n",
    "plt.subplot(122)\n",
    "for k in np.unique(Y):\n",
    "    plt.scatter(crds[Y==k, 0], crds[Y==k, 1], s=2)"
   ]
  }
 ],
 "metadata": {
  "colab": {
   "collapsed_sections": [],
   "name": "Untitled0.ipynb",
   "provenance": []
  },
  "kernelspec": {
   "display_name": "Python 3",
   "language": "python",
   "name": "python3"
  },
  "language_info": {
   "codemirror_mode": {
    "name": "ipython",
    "version": 3
   },
   "file_extension": ".py",
   "mimetype": "text/x-python",
   "name": "python",
   "nbconvert_exporter": "python",
   "pygments_lexer": "ipython3",
   "version": "3.7.7"
  }
 },
 "nbformat": 4,
 "nbformat_minor": 1
}
